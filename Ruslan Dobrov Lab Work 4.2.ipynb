{
 "cells": [
  {
   "cell_type": "markdown",
   "metadata": {},
   "source": [
    "# Задание 1\n",
    "\n",
    "Скачать и подключится к базе данных \n",
    "\n",
    "1) Вывести информацию про бд  \n",
    "2) Вывести перечень всех таблиц  \n",
    "3) Ознакомится со схемой данных"
   ]
  },
  {
   "cell_type": "code",
   "execution_count": 48,
   "metadata": {},
   "outputs": [],
   "source": [
    "import sqlite3\n",
    "\n",
    "def result(sql_text):\n",
    "    conn = sqlite3.connect('tysql.sqlite')\n",
    "    curs = conn.cursor()\n",
    "    #curs.execute(sql_text)\n",
    "    \n",
    "    for row in curs.fetchall():\n",
    "        print(row)\n",
    "    conn.close()"
   ]
  },
  {
   "cell_type": "code",
   "execution_count": 51,
   "metadata": {},
   "outputs": [
    {
     "name": "stdout",
     "output_type": "stream",
     "text": [
      "Customers\n",
      "(0, 'cust_id', 'char(10)', 1, None, 1)\n",
      "(1, 'cust_name', 'char(50)', 1, None, 0)\n",
      "(2, 'cust_address', 'char(50)', 0, None, 0)\n",
      "(3, 'cust_city', 'char(50)', 0, None, 0)\n",
      "(4, 'cust_state', 'char(5)', 0, None, 0)\n",
      "(5, 'cust_zip', 'char(10)', 0, None, 0)\n",
      "(6, 'cust_country', 'char(50)', 0, None, 0)\n",
      "(7, 'cust_contact', 'char(50)', 0, None, 0)\n",
      "(8, 'cust_email', 'char(255)', 0, None, 0)\n",
      "\n",
      "OrderItems\n",
      "(0, 'order_num', 'int', 1, None, 1)\n",
      "(1, 'order_item', 'int', 1, None, 2)\n",
      "(2, 'prod_id', 'char(10)', 1, None, 0)\n",
      "(3, 'quantity', 'int', 1, None, 0)\n",
      "(4, 'item_price', 'decimal(8,2)', 1, None, 0)\n",
      "\n",
      "Orders\n",
      "(0, 'order_num', 'int', 1, None, 1)\n",
      "(1, 'order_date', 'datetime', 1, None, 0)\n",
      "(2, 'cust_id', 'char(10)', 1, None, 0)\n",
      "\n",
      "Products\n",
      "(0, 'prod_id', 'char(10)', 1, None, 1)\n",
      "(1, 'vend_id', 'char(10)', 1, None, 0)\n",
      "(2, 'prod_name', 'char(255)', 1, None, 0)\n",
      "(3, 'prod_price', 'decimal(8,2)', 1, None, 0)\n",
      "(4, 'prod_desc', 'text', 0, None, 0)\n",
      "\n",
      "Vendors\n",
      "(0, 'vend_id', 'char(10)', 1, None, 1)\n",
      "(1, 'vend_name', 'char(50)', 1, None, 0)\n",
      "(2, 'vend_address', 'char(50)', 0, None, 0)\n",
      "(3, 'vend_city', 'char(50)', 0, None, 0)\n",
      "(4, 'vend_state', 'char(5)', 0, None, 0)\n",
      "(5, 'vend_zip', 'char(10)', 0, None, 0)\n",
      "(6, 'vend_country', 'char(50)', 0, None, 0)\n",
      "\n"
     ]
    }
   ],
   "source": [
    "# 1) Вывести перечень таблиц и информацию о них\n",
    "\n",
    "for t in all_tables:\n",
    "    print(t[0])\n",
    "    sql_text = \"PRAGMA table_info (%s)\" %t\n",
    "    execute_with_print(sql_text)\n",
    "    print()"
   ]
  },
  {
   "cell_type": "markdown",
   "metadata": {},
   "source": [
    "#  Задание 2\n",
    "\n",
    "1) Вывести список всех cust_id из Customers  \n",
    "2) Вывести таблицу Customer  \n",
    "3) Список клиентов (cust_names) отсортированные от Z до A  \n",
    "4) Таблицу cust_id и order_num. Отсортировать по клиенту и по дате  \n",
    "5) Таблицу на основе items с количеством и стоимостью товара. Отсортировать в порядке уменьшения количества товара и стоимости  \n",
    "6) Товар с ценой 9.49 из таблицы Product  \n",
    "7) Вывести название товара и цену,которая лежит в диапазоне 3:6. Отсортировать результат по возростанию цены."
   ]
  },
  {
   "cell_type": "code",
   "execution_count": 54,
   "metadata": {},
   "outputs": [
    {
     "name": "stdout",
     "output_type": "stream",
     "text": [
      "('1000000001',)\n",
      "('1000000002',)\n",
      "('1000000003',)\n",
      "('1000000004',)\n",
      "('1000000005',)\n"
     ]
    }
   ],
   "source": [
    "# 1) Вывести список всех cust_id из Customers\n",
    "request_1 = \"\"\"\n",
    "SELECT cust_id\n",
    "FROM Customers\n",
    "\"\"\"\n",
    "execute_with_print(request_1)"
   ]
  },
  {
   "cell_type": "code",
   "execution_count": 55,
   "metadata": {},
   "outputs": [
    {
     "name": "stdout",
     "output_type": "stream",
     "text": [
      "('1000000001', 'Village Toys', '200 Maple Lane', 'Detroit', 'MI', '44444', 'USA', 'John Smith', 'sales@villagetoys.com')\n",
      "('1000000002', 'Kids Place', '333 South Lake Drive', 'Columbus', 'OH', '43333', 'USA', 'Michelle Green', None)\n",
      "('1000000003', 'Fun4All', '1 Sunny Place', 'Muncie', 'IN', '42222', 'USA', 'Jim Jones', 'jjones@fun4all.com')\n",
      "('1000000004', 'Fun4All', '829 Riverside Drive', 'Phoenix', 'AZ', '88888', 'USA', 'Denise L. Stephens', 'dstephens@fun4all.com')\n",
      "('1000000005', 'The Toy Store', '4545 53rd Street', 'Chicago', 'IL', '54545', 'USA', 'Kim Howard', None)\n"
     ]
    }
   ],
   "source": [
    "# 2) Вывести таблицу Customer\n",
    "\n",
    "request_2 = \"\"\"\n",
    "SELECT *\n",
    "FROM Customers\n",
    "\"\"\"\n",
    "execute_with_print(request_2)"
   ]
  },
  {
   "cell_type": "code",
   "execution_count": 60,
   "metadata": {},
   "outputs": [
    {
     "name": "stdout",
     "output_type": "stream",
     "text": [
      "('Village Toys',)\n",
      "('The Toy Store',)\n",
      "('Kids Place',)\n",
      "('Fun4All',)\n",
      "('Fun4All',)\n"
     ]
    }
   ],
   "source": [
    "# 3) Список клиентов (cust_names) отсортированные от Z до A\n",
    "\n",
    "request_3 = \"\"\"\n",
    "SELECT cust_name\n",
    "FROM Customers\n",
    "ORDER BY cust_name DESC\n",
    "\"\"\"\n",
    "execute_with_print(request_3)"
   ]
  },
  {
   "cell_type": "code",
   "execution_count": 70,
   "metadata": {},
   "outputs": [
    {
     "name": "stdout",
     "output_type": "stream",
     "text": [
      "Сортировка по cust_id\n",
      "('1000000001', 20005)\n",
      "('1000000001', 20009)\n",
      "('1000000003', 20006)\n",
      "('1000000004', 20007)\n",
      "('1000000005', 20008)\n",
      "\n",
      "Сортировка по order_num\n",
      "('1000000001', 20005)\n",
      "('1000000003', 20006)\n",
      "('1000000004', 20007)\n",
      "('1000000005', 20008)\n",
      "('1000000001', 20009)\n"
     ]
    }
   ],
   "source": [
    "# 4) Таблицу cust_id и order_num. Отсортировать по клиенту и по дате\n",
    "\n",
    "print('Сортировка по cust_id')\n",
    "\n",
    "request_4 = \"\"\"\n",
    "SELECT cust_id, order_num\n",
    "FROM Orders\n",
    "ORDER BY cust_id\n",
    "\"\"\"\n",
    "execute_with_print(request_4)\n",
    "\n",
    "print()\n",
    "\n",
    "print('Сортировка по order_num')\n",
    "\n",
    "request_4 = \"\"\"\n",
    "SELECT cust_id, order_num\n",
    "FROM Orders\n",
    "ORDER BY order_num\n",
    "\"\"\"\n",
    "execute_with_print(request_4)"
   ]
  },
  {
   "cell_type": "code",
   "execution_count": 71,
   "metadata": {},
   "outputs": [
    {
     "name": "stdout",
     "output_type": "stream",
     "text": [
      "Сортировка по quantity\n",
      "(250, 2.49)\n",
      "(250, 2.49)\n",
      "(250, 2.49)\n",
      "(100, 5.49)\n",
      "(100, 10.99)\n",
      "(100, 2.99)\n",
      "(100, 2.99)\n",
      "(100, 2.99)\n",
      "(50, 11.49)\n",
      "(50, 4.49)\n",
      "(20, 5.99)\n",
      "(10, 8.99)\n",
      "(10, 11.99)\n",
      "(10, 3.49)\n",
      "(10, 3.49)\n",
      "(10, 3.49)\n",
      "(5, 4.99)\n",
      "(5, 11.99)\n",
      "\n",
      "Сортировка по item_price\n",
      "(10, 11.99)\n",
      "(5, 11.99)\n",
      "(50, 11.49)\n",
      "(100, 10.99)\n",
      "(10, 8.99)\n",
      "(20, 5.99)\n",
      "(100, 5.49)\n",
      "(5, 4.99)\n",
      "(50, 4.49)\n",
      "(10, 3.49)\n",
      "(10, 3.49)\n",
      "(10, 3.49)\n",
      "(100, 2.99)\n",
      "(100, 2.99)\n",
      "(100, 2.99)\n",
      "(250, 2.49)\n",
      "(250, 2.49)\n",
      "(250, 2.49)\n"
     ]
    }
   ],
   "source": [
    "# 5) Таблицу на основе items с количеством и стоимостью товара. Отсортировать в порядке уменьшения количества товара и стоимости\n",
    "\n",
    "print('Сортировка по quantity')\n",
    "\n",
    "request_5 = \"\"\"\n",
    "SELECT quantity, item_price\n",
    "FROM OrderItems\n",
    "ORDER BY quantity DESC\n",
    "\"\"\"\n",
    "execute_with_print(request_5)\n",
    "\n",
    "print()\n",
    "\n",
    "print('Сортировка по item_price')\n",
    "\n",
    "request_5 = \"\"\"\n",
    "SELECT quantity, item_price\n",
    "FROM OrderItems\n",
    "ORDER BY item_price DESC\n",
    "\"\"\"\n",
    "execute_with_print(request_5)"
   ]
  },
  {
   "cell_type": "code",
   "execution_count": 74,
   "metadata": {},
   "outputs": [
    {
     "name": "stdout",
     "output_type": "stream",
     "text": [
      "('King doll', 9.49)\n",
      "('Queen doll', 9.49)\n"
     ]
    }
   ],
   "source": [
    "# 6) Товар с ценой 9.49 из таблицы Product\n",
    "\n",
    "request_6 = \"\"\"\n",
    "SELECT prod_name, prod_price\n",
    "FROM Products\n",
    "WHERE prod_price = '9.49'\n",
    "\"\"\"\n",
    "execute_with_print(request_6)"
   ]
  },
  {
   "cell_type": "code",
   "execution_count": 75,
   "metadata": {},
   "outputs": [
    {
     "name": "stdout",
     "output_type": "stream",
     "text": [
      "('Fish bean bag toy', 3.49)\n",
      "('Bird bean bag toy', 3.49)\n",
      "('Rabbit bean bag toy', 3.49)\n",
      "('Raggedy Ann', 4.99)\n",
      "('8 inch teddy bear', 5.99)\n"
     ]
    }
   ],
   "source": [
    "# 7) Вывести название товара и цену,которая лежит в диапазоне 3:6. Отсортировать результат по возростанию цены.\n",
    "\n",
    "request_7 = \"\"\"\n",
    "SELECT prod_name, prod_price\n",
    "FROM Products\n",
    "WHERE prod_price > 3 and prod_price < 6\n",
    "ORDER BY prod_price ASC\n",
    "\"\"\"\n",
    "execute_with_print(request_7)"
   ]
  },
  {
   "cell_type": "markdown",
   "metadata": {},
   "source": [
    "#  Задание 2\n",
    "\n",
    "1) Вывести кол-во проданных товаров  \n",
    "2) Вывести кол-во товаров с ценой больше 4  \n",
    "3) Вывести 3 самых дорогих товара в базе  \n",
    "4) Количество заказов для каждого клиента используя подзапросы  \n",
    "5) Вывести список клиентов и их заказы с помозью join  \n",
    "6) 2 запроса: список с ценой меньше 5 и список товаров с ценой больше 5. Использовать union"
   ]
  },
  {
   "cell_type": "code",
   "execution_count": 84,
   "metadata": {},
   "outputs": [
    {
     "name": "stdout",
     "output_type": "stream",
     "text": [
      "('BNBG01', 360)\n",
      "('BNBG02', 360)\n",
      "('BNBG03', 360)\n",
      "('BR01', 120)\n",
      "('BR02', 10)\n",
      "('BR03', 165)\n",
      "('RGAN01', 55)\n",
      "('Всего продано: ', 1430)\n"
     ]
    }
   ],
   "source": [
    "# 1) Вывести кол-во проданных товаров\n",
    "\n",
    "request_8 = \"\"\"\n",
    "SELECT prod_id, SUM(quantity)\n",
    "FROM OrderItems\n",
    "GROUP BY prod_id\n",
    "\n",
    "UNION\n",
    "\n",
    "SELECT 'Всего продано: ', SUM(quantity)\n",
    "FROM OrderItems\n",
    "\"\"\"\n",
    "execute_with_print(request_8)"
   ]
  },
  {
   "cell_type": "code",
   "execution_count": 87,
   "metadata": {},
   "outputs": [
    {
     "name": "stdout",
     "output_type": "stream",
     "text": [
      "(6,)\n"
     ]
    }
   ],
   "source": [
    "# 2) Вывести кол-во товаров с ценой больше 4\n",
    "\n",
    "request_9 = \"\"\"\n",
    "SELECT count(prod_id) \n",
    "FROM Products\n",
    "WHERE prod_price > 4\n",
    "\"\"\"\n",
    "execute_with_print(request_9)"
   ]
  },
  {
   "cell_type": "code",
   "execution_count": 88,
   "metadata": {},
   "outputs": [
    {
     "name": "stdout",
     "output_type": "stream",
     "text": [
      "('18 inch teddy bear', 11.99)\n",
      "('King doll', 9.49)\n",
      "('Queen doll', 9.49)\n"
     ]
    }
   ],
   "source": [
    "# 3) Вывести 3 самых дорогих товара в базе\n",
    "\n",
    "request_10 = \"\"\"\n",
    "SELECT prod_name, prod_price\n",
    "FROM Products\n",
    "ORDER BY prod_price DESC\n",
    "LIMIT 3\n",
    "\"\"\"\n",
    "execute_with_print(request_10)"
   ]
  },
  {
   "cell_type": "code",
   "execution_count": 89,
   "metadata": {},
   "outputs": [
    {
     "name": "stdout",
     "output_type": "stream",
     "text": [
      "('1000000001', 2)\n",
      "('1000000003', 1)\n",
      "('1000000004', 1)\n",
      "('1000000005', 1)\n"
     ]
    }
   ],
   "source": [
    "# 4) Количество заказов для каждого клиента используя подзапросы\n",
    "\n",
    "request_11 = \"\"\"\n",
    "SELECT cust_id AS c1, SUM(1)\n",
    "FROM (SELECT cust_id FROM Orders)\n",
    "GROUP BY cust_id\n",
    "\"\"\"\n",
    "execute_with_print(request_11)"
   ]
  },
  {
   "cell_type": "code",
   "execution_count": 90,
   "metadata": {},
   "outputs": [
    {
     "name": "stdout",
     "output_type": "stream",
     "text": [
      "('Village Toys', 20005)\n",
      "('Fun4All', 20006)\n",
      "('Fun4All', 20007)\n",
      "('The Toy Store', 20008)\n",
      "('Village Toys', 20009)\n"
     ]
    }
   ],
   "source": [
    "# 5) Вывести список клиентов и их заказы с помозью join\n",
    "\n",
    "request_12 = \"\"\"\n",
    "SELECT cust_name, order_num\n",
    "FROM Orders\n",
    "JOIN Customers on Customers.cust_id=Orders.cust_id\n",
    "\"\"\"\n",
    "execute_with_print(request_12)"
   ]
  },
  {
   "cell_type": "code",
   "execution_count": 91,
   "metadata": {},
   "outputs": [
    {
     "name": "stdout",
     "output_type": "stream",
     "text": [
      "('12 inch teddy bear', 8.99)\n",
      "('18 inch teddy bear', 11.99)\n",
      "('8 inch teddy bear', 5.99)\n",
      "('Bird bean bag toy', 3.49)\n",
      "('Fish bean bag toy', 3.49)\n",
      "('King doll', 9.49)\n",
      "('Queen doll', 9.49)\n",
      "('Rabbit bean bag toy', 3.49)\n",
      "('Raggedy Ann', 4.99)\n"
     ]
    }
   ],
   "source": [
    "# 6) 2 запроса: список с ценой меньше 5 и список товаров с ценой больше 5. Использовать union\n",
    "\n",
    "request_13 = \"\"\"\n",
    "SELECT prod_name, prod_price\n",
    "FROM Products\n",
    "WHERE prod_price < 5\n",
    "\n",
    "UNION\n",
    "\n",
    "SELECT prod_name, prod_price \n",
    "FROM Products\n",
    "WHERE prod_price >= 5\n",
    "\"\"\"\n",
    "execute_with_print(request_13)"
   ]
  },
  {
   "cell_type": "code",
   "execution_count": null,
   "metadata": {},
   "outputs": [],
   "source": []
  }
 ],
 "metadata": {
  "kernelspec": {
   "display_name": "Python 3",
   "language": "python",
   "name": "python3"
  },
  "language_info": {
   "codemirror_mode": {
    "name": "ipython",
    "version": 3
   },
   "file_extension": ".py",
   "mimetype": "text/x-python",
   "name": "python",
   "nbconvert_exporter": "python",
   "pygments_lexer": "ipython3",
   "version": "3.8.3"
  }
 },
 "nbformat": 4,
 "nbformat_minor": 4
}
