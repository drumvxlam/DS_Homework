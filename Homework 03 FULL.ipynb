{
 "cells": [
  {
   "cell_type": "code",
   "execution_count": 1,
   "metadata": {},
   "outputs": [
    {
     "name": "stdout",
     "output_type": "stream",
     "text": [
      "1 26\n",
      "25\n"
     ]
    }
   ],
   "source": [
    "# Задача решена, но я не понимаю, как тут использовать функции ord и chr. \n",
    "import string\n",
    "my_list = string.ascii_lowercase\n",
    "\n",
    "def user_letters(input_a, input_b):\n",
    "    letter_1 = my_list.find(input_a)\n",
    "    letter_2 = my_list.find(input_b)\n",
    "    print(letter_1 + 1, letter_2 + 1)\n",
    "    print(len(list(string.ascii_lowercase[letter_1:letter_2])))\n",
    "    \n",
    "user_letters('a','z')"
   ]
  },
  {
   "cell_type": "code",
   "execution_count": 14,
   "metadata": {},
   "outputs": [
    {
     "name": "stdout",
     "output_type": "stream",
     "text": [
      "6\n",
      "11\n",
      "5\n"
     ]
    }
   ],
   "source": [
    "# задача по алфавиту ПРАВИЛЬНАЯ\n",
    "import string\n",
    "my_list = string.ascii_lowercase\n",
    "\n",
    "def alphabet_1(input_1, input_2):\n",
    "    index_1 = (ord(input_1)-96)\n",
    "    index_2 = (ord(input_2)-96)\n",
    "    print(index_1)\n",
    "    print(index_2)\n",
    "    print(index_2 - index_1)\n",
    "    \n",
    "alphabet_1('f','k')"
   ]
  },
  {
   "cell_type": "code",
   "execution_count": 15,
   "metadata": {},
   "outputs": [
    {
     "name": "stdout",
     "output_type": "stream",
     "text": [
      "14\n"
     ]
    }
   ],
   "source": [
    "# задача 1\n",
    "a = 7\n",
    "if a > 0:\n",
    "    print(a*2)\n",
    "else:\n",
    "    print(a)"
   ]
  },
  {
   "cell_type": "code",
   "execution_count": 23,
   "metadata": {},
   "outputs": [
    {
     "name": "stdout",
     "output_type": "stream",
     "text": [
      "11 11\n"
     ]
    }
   ],
   "source": [
    "# задача 2\n",
    "#a = 5\n",
    "#b = 6\n",
    "def a_b(a,b):\n",
    "    if a == b:\n",
    "        a = b = 0\n",
    "    else:\n",
    "        a = b = a + b\n",
    "    print(a,b)\n",
    "a_b(5,6)"
   ]
  },
  {
   "cell_type": "code",
   "execution_count": 28,
   "metadata": {},
   "outputs": [
    {
     "data": {
      "text/plain": [
       "18"
      ]
     },
     "execution_count": 28,
     "metadata": {},
     "output_type": "execute_result"
    }
   ],
   "source": [
    "# задача 3 ver.1\n",
    "def bigger_ones_sum(x,y,z):\n",
    "    if x>z and y>z:\n",
    "        return x + y\n",
    "    elif x>y and z>y:\n",
    "        return x + z\n",
    "    else:\n",
    "        return z + y\n",
    "bigger_ones_sum(7,4,11)"
   ]
  },
  {
   "cell_type": "code",
   "execution_count": 27,
   "metadata": {},
   "outputs": [
    {
     "name": "stdout",
     "output_type": "stream",
     "text": [
      "33\n"
     ]
    }
   ],
   "source": [
    "# задача 3 ver.2\n",
    "number_list = []\n",
    "def list_num(x,y,z):\n",
    "    number_list.append(x)\n",
    "    number_list.append(y)\n",
    "    number_list.append(z)\n",
    "    number_list.sort()\n",
    "    num_sum = number_list[-2] + number_list[-1]\n",
    "    print(num_sum)\n",
    "list_num(11,6,22)"
   ]
  },
  {
   "cell_type": "code",
   "execution_count": 59,
   "metadata": {},
   "outputs": [
    {
     "name": "stdout",
     "output_type": "stream",
     "text": [
      "Первый индекс = 4\n",
      "Второй индекс = 13\n"
     ]
    }
   ],
   "source": [
    "# задача 4\n",
    "my_str = \"Uticaj Svemira\"\n",
    "a_times = my_str.count(\"a\")\n",
    "if not \"a\" in my_str:\n",
    "    print(False)\n",
    "elif a_times < 2:\n",
    "    print(\"Индекс =\", my_str.index(\"a\"))\n",
    "elif a_times > 1:\n",
    "    index_1 = my_str.find(\"a\")\n",
    "    index_2 = my_str.rfind(\"a\")\n",
    "    print(\"Первый индекс =\", index_1)\n",
    "    print(\"Второй индекс =\", index_2)"
   ]
  },
  {
   "cell_type": "code",
   "execution_count": 2,
   "metadata": {},
   "outputs": [
    {
     "name": "stdout",
     "output_type": "stream",
     "text": [
      "1 кг стоит  18 денег\n",
      "2 кг стоит  36 денег\n",
      "3 кг стоит  54 денег\n",
      "4 кг стоит  72 денег\n",
      "5 кг стоит  90 денег\n",
      "6 кг стоит  108 денег\n",
      "7 кг стоит  126 денег\n",
      "8 кг стоит  144 денег\n",
      "9 кг стоит  162 денег\n",
      "10 кг стоит  180 денег\n"
     ]
    }
   ],
   "source": [
    "#задача 5\n",
    "i = 0\n",
    "price = 18\n",
    "\n",
    "while i <=9:\n",
    "    i = i + 1\n",
    "    print(i, 'кг стоит ',(price * i), 'денег')"
   ]
  },
  {
   "cell_type": "code",
   "execution_count": 3,
   "metadata": {},
   "outputs": [
    {
     "name": "stdout",
     "output_type": "stream",
     "text": [
      "1 кг стоит  18 денег\n",
      "2 кг стоит  36 денег\n",
      "3 кг стоит  54 денег\n",
      "4 кг стоит  72 денег\n",
      "5 кг стоит  90 денег\n",
      "6 кг стоит  108 денег\n",
      "7 кг стоит  126 денег\n",
      "8 кг стоит  144 денег\n",
      "9 кг стоит  162 денег\n"
     ]
    }
   ],
   "source": [
    "#задача 5 ver2\n",
    "price = 18\n",
    "for i in range(1, 10, 1):\n",
    "    kilos = price * i\n",
    "    print(i, 'кг стоит ', kilos, 'денег')"
   ]
  },
  {
   "cell_type": "code",
   "execution_count": 101,
   "metadata": {},
   "outputs": [
    {
     "name": "stdout",
     "output_type": "stream",
     "text": [
      "55\n",
      "555\n",
      "5555\n",
      "55555\n"
     ]
    }
   ],
   "source": [
    "# задача 6\n",
    "n = '5'\n",
    "a = '5'\n",
    "while len(a)<5:\n",
    "    a = a + n\n",
    "    print(a)"
   ]
  },
  {
   "cell_type": "code",
   "execution_count": 13,
   "metadata": {},
   "outputs": [
    {
     "name": "stdout",
     "output_type": "stream",
     "text": [
      "5\n",
      "15\n",
      "25\n",
      "35\n",
      "45\n",
      "55\n",
      "65\n",
      "75\n",
      "85\n",
      "95\n",
      "105\n",
      "115\n",
      "125\n",
      "135\n",
      "145\n",
      "155\n",
      "165\n",
      "175\n",
      "185\n",
      "195\n",
      "205\n",
      "215\n",
      "225\n",
      "235\n",
      "245\n",
      "255\n",
      "265\n",
      "275\n",
      "285\n",
      "295\n",
      "305\n",
      "315\n",
      "325\n",
      "335\n",
      "345\n",
      "355\n",
      "365\n",
      "375\n",
      "385\n",
      "395\n",
      "405\n",
      "415\n",
      "425\n",
      "435\n",
      "445\n",
      "455\n",
      "465\n",
      "475\n",
      "485\n",
      "495\n",
      "505\n",
      "515\n",
      "525\n",
      "535\n",
      "545\n",
      "555\n",
      "565\n",
      "575\n",
      "585\n",
      "595\n",
      "605\n",
      "615\n",
      "625\n",
      "635\n",
      "645\n",
      "655\n",
      "665\n",
      "675\n",
      "685\n",
      "695\n",
      "705\n",
      "715\n",
      "725\n",
      "735\n",
      "745\n",
      "755\n",
      "765\n",
      "775\n",
      "785\n",
      "795\n",
      "805\n",
      "815\n",
      "825\n",
      "835\n",
      "845\n",
      "855\n",
      "865\n",
      "875\n",
      "885\n",
      "895\n",
      "905\n",
      "915\n",
      "925\n",
      "935\n",
      "945\n",
      "955\n",
      "965\n",
      "975\n",
      "985\n",
      "995\n",
      "50000\n"
     ]
    }
   ],
   "source": [
    "# Завдання 7 Виведіть суму всіх непарних чисел, що кратні 5, в діапазоні від 0 до 1000.\n",
    "total_list = []\n",
    "for i in range(0,1000,5):\n",
    "    if i % 2 > 0:\n",
    "        total_list.append(i)\n",
    "        print(i)\n",
    "print(sum(total_list))\n"
   ]
  },
  {
   "cell_type": "code",
   "execution_count": 204,
   "metadata": {},
   "outputs": [
    {
     "name": "stdout",
     "output_type": "stream",
     "text": [
      "Дистанция на 30 день - 7931 метров\n"
     ]
    }
   ],
   "source": [
    "# задача 8 через цикл FOR \n",
    "# Яку дистанцію я пробіжу в останній день карантину? \n",
    "# ОТВЕТ: на 30 день - 7931 метров\n",
    "distance = 500\n",
    "for i in range(2,31):\n",
    "    distance = distance * 1.1\n",
    "    if i == 30:\n",
    "        print('Дистанция на', i, 'день -', int(distance), 'метров')"
   ]
  },
  {
   "cell_type": "code",
   "execution_count": 210,
   "metadata": {},
   "outputs": [
    {
     "name": "stdout",
     "output_type": "stream",
     "text": [
      "Дистанция на 30 день - 7931 метров\n"
     ]
    }
   ],
   "source": [
    "# задача 8 через цикл WHILE\n",
    "# Яку дистанцію я пробіжу в останній день карантину? ОТВЕТ: на 30 день - 7931 метров\n",
    "distance = 500\n",
    "d = 1\n",
    "while d < 30:\n",
    "    d = d + 1\n",
    "    distance = distance * 1.1\n",
    "    if d == 30:\n",
    "        print('Дистанция на', d, 'день -', int(distance), 'метров')"
   ]
  },
  {
   "cell_type": "code",
   "execution_count": 219,
   "metadata": {},
   "outputs": [
    {
     "name": "stdout",
     "output_type": "stream",
     "text": [
      "Дистанция забега во 24 день   -  4477 метров\n",
      "На  24 день, общая дистанция -  44248 метров\n"
     ]
    }
   ],
   "source": [
    "# задача 8 через цикл WHILE - пункт 2.\n",
    "# Скільки днів потрібно бігати, щоб сумарна дистанція за всі дні перевищила довжину марафону (42 км)? \n",
    "# ОТВЕТ: на 24 день\n",
    "distance = 500\n",
    "d = 1\n",
    "total_distance = [distance]\n",
    "while sum(total_distance) < 42000:\n",
    "    d = d + 1\n",
    "    distance = distance * 1.1\n",
    "    total_distance.append(distance)\n",
    "    if sum(total_distance) > 42000:\n",
    "        print('Дистанция забега во', d, 'день   - ', int(distance), 'метров')\n",
    "        print(\"На \", d, 'день, общая дистанция - ', int(sum(total_distance)), 'метров')"
   ]
  },
  {
   "cell_type": "code",
   "execution_count": 20,
   "metadata": {},
   "outputs": [
    {
     "name": "stdout",
     "output_type": "stream",
     "text": [
      "0\n"
     ]
    }
   ],
   "source": [
    "# задача 9. Виведіть добуток всіх цілих чисел для послідовності -23, -22, -21, -20, ..., 8, 9, 10, 11, 12\n",
    "def multiply(lst):\n",
    "    answer = 1\n",
    "    for i in lst:\n",
    "        answer *= i\n",
    "    return answer\n",
    " \n",
    "print(multiply(range(-23,13)))"
   ]
  },
  {
   "cell_type": "code",
   "execution_count": null,
   "metadata": {},
   "outputs": [],
   "source": [
    "# задача 11\n",
    "#Перевірити, чи натуральне число N є просте.\n",
    "# Число називається просте - якщо кількість його дільників становить два: одиниця і саме число"
   ]
  },
  {
   "cell_type": "code",
   "execution_count": 3,
   "metadata": {},
   "outputs": [
    {
     "name": "stdout",
     "output_type": "stream",
     "text": [
      "Andrey\n",
      "Ivan\n",
      "Andrey\n",
      "END\n",
      "{'Andrey': 2, 'Ivan': 1}\n"
     ]
    }
   ],
   "source": [
    "# задача 4.2 таможня\n",
    "def add_citizen(my_dict, name):\n",
    "    if name in my_dict:\n",
    "        my_dict[name] = my_dict[name] + 1\n",
    "    else:\n",
    "        my_dict[name] = 1\n",
    "\n",
    "dict_cityzens = {}\n",
    "while True: \n",
    "    name = input()\n",
    "    if name == 'END':\n",
    "        break\n",
    "    add_citizen(dict_cityzens, name)   \n",
    "        \n",
    "print(dict_cityzens)"
   ]
  },
  {
   "cell_type": "code",
   "execution_count": 4,
   "metadata": {},
   "outputs": [
    {
     "name": "stdout",
     "output_type": "stream",
     "text": [
      "('Andrey', 2)\n",
      "('Ivan', 1)\n"
     ]
    }
   ],
   "source": [
    "# печатаем пары: имя - кол во раз пересения границы.\n",
    "value = dict_cityzens.items()\n",
    "\n",
    "for i in value:\n",
    "    print(i)"
   ]
  },
  {
   "cell_type": "code",
   "execution_count": 1,
   "metadata": {},
   "outputs": [
    {
     "name": "stdout",
     "output_type": "stream",
     "text": [
      "1 2\n",
      "2 3\n",
      "3 5\n",
      "5 8\n",
      "8 13\n",
      "13 21\n",
      "21 34\n",
      "34 55\n",
      "55 89\n",
      "89 144\n",
      "144 233\n",
      "233 377\n",
      "377 610\n",
      "610 987\n",
      "987 1597\n",
      "1597 2584\n",
      "2584 4181\n",
      "4181 6765\n",
      "6765 10946\n",
      "10946 17711\n",
      "17711 28657\n",
      "28657 46368\n",
      "46368 75025\n",
      "75025 121393\n",
      "121393 196418\n",
      "196418 317811\n",
      "317811 514229\n",
      "514229 832040\n",
      "832040 1346269\n",
      "1346269 2178309\n",
      "2178309 3524578\n",
      "3524578 5702887\n",
      "5702887 9227465\n",
      "9227465 14930352\n",
      "14930352 24157817\n",
      "24157817 39088169\n",
      "39088169 63245986\n",
      "63245986 102334155\n",
      "102334155 165580141\n",
      "165580141 267914296\n",
      "267914296 433494437\n",
      "433494437 701408733\n",
      "701408733 1134903170\n",
      "1134903170 1836311903\n",
      "1836311903 2971215073\n",
      "2971215073 4807526976\n",
      "4807526976 7778742049\n",
      "7778742049 12586269025\n",
      "12586269025 20365011074\n",
      "20365011074 32951280099\n",
      "32951280099 53316291173\n",
      "53316291173 86267571272\n",
      "86267571272 139583862445\n",
      "139583862445 225851433717\n",
      "225851433717 365435296162\n",
      "365435296162 591286729879\n",
      "591286729879 956722026041\n",
      "956722026041 1548008755920\n",
      "1548008755920 2504730781961\n",
      "2504730781961 4052739537881\n",
      "4052739537881 6557470319842\n",
      "6557470319842 10610209857723\n",
      "10610209857723 17167680177565\n",
      "17167680177565 27777890035288\n",
      "27777890035288 44945570212853\n",
      "44945570212853 72723460248141\n",
      "72723460248141 117669030460994\n",
      "117669030460994 190392490709135\n",
      "190392490709135 308061521170129\n",
      "308061521170129 498454011879264\n",
      "498454011879264 806515533049393\n",
      "806515533049393 1304969544928657\n",
      "1304969544928657 2111485077978050\n",
      "2111485077978050 3416454622906707\n",
      "3416454622906707 5527939700884757\n",
      "5527939700884757 8944394323791464\n",
      "8944394323791464 14472334024676221\n",
      "14472334024676221 23416728348467685\n",
      "23416728348467685 37889062373143906\n",
      "37889062373143906 61305790721611591\n",
      "61305790721611591 99194853094755497\n",
      "99194853094755497 160500643816367088\n",
      "160500643816367088 259695496911122585\n",
      "259695496911122585 420196140727489673\n",
      "420196140727489673 679891637638612258\n",
      "679891637638612258 1100087778366101931\n",
      "1100087778366101931 1779979416004714189\n",
      "1779979416004714189 2880067194370816120\n",
      "2880067194370816120 4660046610375530309\n",
      "4660046610375530309 7540113804746346429\n",
      "7540113804746346429 12200160415121876738\n",
      "12200160415121876738 19740274219868223167\n",
      "19740274219868223167 31940434634990099905\n",
      "31940434634990099905 51680708854858323072\n",
      "51680708854858323072 83621143489848422977\n",
      "83621143489848422977 135301852344706746049\n",
      "135301852344706746049 218922995834555169026\n",
      "218922995834555169026 354224848179261915075\n",
      "354224848179261915075 573147844013817084101\n",
      "573147844013817084101 927372692193078999176\n"
     ]
    }
   ],
   "source": [
    "# задача по числам Фибоначчи - ЦИКЛ\n",
    "a = 1\n",
    "b = 1\n",
    "for _ in range(100):\n",
    "    a, b = b, a+b\n",
    "    print(a,b)"
   ]
  },
  {
   "cell_type": "code",
   "execution_count": 2,
   "metadata": {},
   "outputs": [
    {
     "name": "stdout",
     "output_type": "stream",
     "text": [
      "55\n"
     ]
    }
   ],
   "source": [
    "# задача по числам Фибоначчи - РЕКУРСИЯ\n",
    "def fibonacci(n):\n",
    "    if n in (1, 2):\n",
    "        return 1\n",
    "    return fibonacci(n - 1) + fibonacci(n - 2)\n",
    "\n",
    "print(fibonacci(10))"
   ]
  }
 ],
 "metadata": {
  "kernelspec": {
   "display_name": "Python 3",
   "language": "python",
   "name": "python3"
  },
  "language_info": {
   "codemirror_mode": {
    "name": "ipython",
    "version": 3
   },
   "file_extension": ".py",
   "mimetype": "text/x-python",
   "name": "python",
   "nbconvert_exporter": "python",
   "pygments_lexer": "ipython3",
   "version": "3.8.3"
  }
 },
 "nbformat": 4,
 "nbformat_minor": 4
}
